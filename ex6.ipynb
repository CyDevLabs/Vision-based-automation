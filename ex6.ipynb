{
 "cells": [
  {
   "cell_type": "code",
   "execution_count": 2,
   "metadata": {},
   "outputs": [
    {
     "ename": "KeyboardInterrupt",
     "evalue": "",
     "output_type": "error",
     "traceback": [
      "\u001b[1;31m---------------------------------------------------------------------------\u001b[0m",
      "\u001b[1;31mKeyboardInterrupt\u001b[0m                         Traceback (most recent call last)",
      "Cell \u001b[1;32mIn[2], line 45\u001b[0m\n\u001b[0;32m     43\u001b[0m     \u001b[39mif\u001b[39;00m n \u001b[39m==\u001b[39m N:\n\u001b[0;32m     44\u001b[0m         \u001b[39mbreak\u001b[39;00m\n\u001b[1;32m---> 45\u001b[0m     \u001b[39mif\u001b[39;00m cv\u001b[39m.\u001b[39;49mwaitKey(\u001b[39m20\u001b[39;49m) \u001b[39m&\u001b[39m \u001b[39m0xFF\u001b[39m \u001b[39m==\u001b[39m \u001b[39m27\u001b[39m:\n\u001b[0;32m     46\u001b[0m         \u001b[39mbreak\u001b[39;00m\n\u001b[0;32m     48\u001b[0m \u001b[39mprint\u001b[39m(p1)\n",
      "\u001b[1;31mKeyboardInterrupt\u001b[0m: "
     ]
    }
   ],
   "source": [
    "import cv2 as cv\n",
    "import numpy as np\n",
    "\n",
    "im1 = cv.imread('C:/Users/Dell/.ipython/img1.ppm', cv.IMREAD_ANYCOLOR)\n",
    "im4 = cv.imread('C:/Users/Dell/.ipython/img4.ppm', cv.IMREAD_ANYCOLOR)\n",
    "assert im1 is not None\n",
    "assert im4 is not None\n",
    "\n",
    "N = 5 # No. of points to be clicked\n",
    "global n\n",
    "n = 0\n",
    "p1 = np.empty((N,2))\n",
    "p4 = np.empty((N,2))\n",
    "\n",
    "# mouse callback function\n",
    "def draw_circle(event,x,y,flags,param):\n",
    "    global n\n",
    "    p = param[0]\n",
    "    if event == cv.EVENT_LBUTTONDOWN:\n",
    "        cv.circle(param[1],(x,y),5,(255,0,0),-1)        \n",
    "        p[n] = (x,y)\n",
    "        n += 1\n",
    "\n",
    "im1copy = im1.copy()\n",
    "im4copy = im4.copy()\n",
    "\n",
    "cv.namedWindow('Image 1', cv.WINDOW_AUTOSIZE)\n",
    "param = [p1, im1copy]\n",
    "cv.setMouseCallback('Image 1', draw_circle, param)\n",
    "while(1):\n",
    "    cv.imshow('Image 1', im1copy)\n",
    "    if n == N:\n",
    "        break\n",
    "    if cv.waitKey(20) & 0xFF == 27:\n",
    "        break\n",
    "\n",
    "n = 0\n",
    "cv.namedWindow('Image 4', cv.WINDOW_AUTOSIZE)\n",
    "param = [p4, im4copy]\n",
    "cv.setMouseCallback('Image 4', draw_circle, param)\n",
    "while(1):\n",
    "    cv.imshow('Image 4', im4copy)\n",
    "    if n == N:\n",
    "        break\n",
    "    if cv.waitKey(20) & 0xFF == 27:\n",
    "        break\n",
    "\n",
    "print(p1)\n",
    "print(p4)\n",
    "\n",
    "H = cv.findHomography(p1, p4) # Comuting the homography based on teh mouse clicked points\n",
    "H = H[0]\n",
    "print(H)\n",
    "\n",
    "im4_warped = cv.warpPerspective(im4, np.linalg.inv(H), (2000, 1000)) # Warpping image 4 onto the frame of image 1\n",
    "im4_warped[0:im1.shape[0], 0:im1.shape[1]] = im1 #  Pasting image 1 to warped image 4.\n",
    "cv.namedWindow('Im4Warped', cv.WINDOW_AUTOSIZE)\n",
    "cv.imshow('Im4Warped', im4_warped)\n",
    "cv.waitKey(0)\n",
    "cv.destroyAllWindows()\n",
    "\n",
    "fig, ax = plt.subplots(1,3, figsize=(16,8))\n",
    "ax.plot()"
   ]
  },
  {
   "cell_type": "code",
   "execution_count": 3,
   "metadata": {},
   "outputs": [
    {
     "ename": "KeyboardInterrupt",
     "evalue": "",
     "output_type": "error",
     "traceback": [
      "\u001b[1;31m---------------------------------------------------------------------------\u001b[0m",
      "\u001b[1;31mKeyboardInterrupt\u001b[0m                         Traceback (most recent call last)",
      "Cell \u001b[1;32mIn[3], line 8\u001b[0m\n\u001b[0;32m      6\u001b[0m     \u001b[39mif\u001b[39;00m n \u001b[39m==\u001b[39m N:\n\u001b[0;32m      7\u001b[0m         \u001b[39mbreak\u001b[39;00m\n\u001b[1;32m----> 8\u001b[0m     \u001b[39mif\u001b[39;00m cv\u001b[39m.\u001b[39;49mwaitKey(\u001b[39m20\u001b[39;49m) \u001b[39m&\u001b[39m \u001b[39m0xFF\u001b[39m \u001b[39m==\u001b[39m \u001b[39m27\u001b[39m:\n\u001b[0;32m      9\u001b[0m         \u001b[39mbreak\u001b[39;00m\n\u001b[0;32m     11\u001b[0m n \u001b[39m=\u001b[39m \u001b[39m0\u001b[39m\n",
      "\u001b[1;31mKeyboardInterrupt\u001b[0m: "
     ]
    }
   ],
   "source": [
    "cv.namedWindow('Image 1', cv.WINDOW_AUTOSIZE)\n",
    "param = [p1, im1copy]\n",
    "cv.setMouseCallback('Image 1', draw_circle, param)\n",
    "while(1):\n",
    "    cv.imshow('Image 1', im1copy)\n",
    "    if n == N:\n",
    "        break\n",
    "    if cv.waitKey(20) & 0xFF == 27:\n",
    "        break\n",
    "\n",
    "n = 0\n",
    "cv.namedWindow('Image 4', cv.WINDOW_AUTOSIZE)\n",
    "param = [p4, im4copy]\n",
    "cv.setMouseCallback('Image 4', draw_circle, param)\n",
    "while(1):\n",
    "    cv.imshow('Image 4', im4copy)\n",
    "    if n == N:\n",
    "        break\n",
    "    if cv.waitKey(20) & 0xFF == 27:\n",
    "        break\n",
    "\n",
    "print(p1)\n",
    "print(p4)\n",
    "\n",
    "H = cv.findHomography(p1, p4) # Comuting the homography based on teh mouse clicked points\n",
    "H = H[0]\n",
    "print(H)\n",
    "\n",
    "im4_warped = cv.warpPerspective(im4, np.linalg.inv(H), (2000, 1000)) # Warpping image 4 onto the frame of image 1\n",
    "im4_warped[0:im1.shape[0], 0:im1.shape[1]] = im1 #  Pasting image 1 to warped image 4.\n",
    "cv.namedWindow('Im4Warped', cv.WINDOW_AUTOSIZE)\n",
    "cv.imshow('Im4Warped', im4_warped)\n",
    "cv.waitKey(0)\n",
    "cv.destroyAllWindows()"
   ]
  },
  {
   "cell_type": "code",
   "execution_count": 4,
   "metadata": {},
   "outputs": [
    {
     "name": "stderr",
     "output_type": "stream",
     "text": [
      "[NbConvertApp] Converting notebook ex6.ipynb to html\n",
      "Traceback (most recent call last):\n",
      "  File \"C:\\Python311\\cv\\Lib\\site-packages\\nbformat\\reader.py\", line 18, in parse_json\n",
      "    nb_dict = json.loads(s, **kwargs)\n",
      "              ^^^^^^^^^^^^^^^^^^^^^^^\n",
      "  File \"C:\\Python311\\Lib\\json\\__init__.py\", line 346, in loads\n",
      "    return _default_decoder.decode(s)\n",
      "           ^^^^^^^^^^^^^^^^^^^^^^^^^^\n",
      "  File \"C:\\Python311\\Lib\\json\\decoder.py\", line 337, in decode\n",
      "    obj, end = self.raw_decode(s, idx=_w(s, 0).end())\n",
      "               ^^^^^^^^^^^^^^^^^^^^^^^^^^^^^^^^^^^^^^\n",
      "  File \"C:\\Python311\\Lib\\json\\decoder.py\", line 355, in raw_decode\n",
      "    raise JSONDecodeError(\"Expecting value\", s, err.value) from None\n",
      "json.decoder.JSONDecodeError: Expecting value: line 1 column 1 (char 0)\n",
      "\n",
      "The above exception was the direct cause of the following exception:\n",
      "\n",
      "Traceback (most recent call last):\n",
      "  File \"<frozen runpy>\", line 198, in _run_module_as_main\n",
      "  File \"<frozen runpy>\", line 88, in _run_code\n",
      "  File \"c:\\Python311\\cv\\Scripts\\jupyter-nbconvert.EXE\\__main__.py\", line 7, in <module>\n",
      "  File \"C:\\Python311\\cv\\Lib\\site-packages\\jupyter_core\\application.py\", line 276, in launch_instance\n",
      "    return super().launch_instance(argv=argv, **kwargs)\n",
      "           ^^^^^^^^^^^^^^^^^^^^^^^^^^^^^^^^^^^^^^^^^^^^\n",
      "  File \"C:\\Python311\\cv\\Lib\\site-packages\\traitlets\\config\\application.py\", line 1041, in launch_instance\n",
      "    app.start()\n",
      "  File \"C:\\Python311\\cv\\Lib\\site-packages\\nbconvert\\nbconvertapp.py\", line 417, in start\n",
      "    self.convert_notebooks()\n",
      "  File \"C:\\Python311\\cv\\Lib\\site-packages\\nbconvert\\nbconvertapp.py\", line 591, in convert_notebooks\n",
      "    self.convert_single_notebook(notebook_filename)\n",
      "  File \"C:\\Python311\\cv\\Lib\\site-packages\\nbconvert\\nbconvertapp.py\", line 554, in convert_single_notebook\n",
      "    output, resources = self.export_single_notebook(\n",
      "                        ^^^^^^^^^^^^^^^^^^^^^^^^^^^^\n",
      "  File \"C:\\Python311\\cv\\Lib\\site-packages\\nbconvert\\nbconvertapp.py\", line 482, in export_single_notebook\n",
      "    output, resources = self.exporter.from_filename(\n",
      "                        ^^^^^^^^^^^^^^^^^^^^^^^^^^^^\n",
      "  File \"C:\\Python311\\cv\\Lib\\site-packages\\nbconvert\\exporters\\exporter.py\", line 190, in from_filename\n",
      "    return self.from_file(f, resources=resources, **kw)\n",
      "           ^^^^^^^^^^^^^^^^^^^^^^^^^^^^^^^^^^^^^^^^^^^^\n",
      "  File \"C:\\Python311\\cv\\Lib\\site-packages\\nbconvert\\exporters\\exporter.py\", line 208, in from_file\n",
      "    nbformat.read(file_stream, as_version=4), resources=resources, **kw\n",
      "    ^^^^^^^^^^^^^^^^^^^^^^^^^^^^^^^^^^^^^^^^\n",
      "  File \"C:\\Python311\\cv\\Lib\\site-packages\\nbformat\\__init__.py\", line 171, in read\n",
      "    return reads(buf, as_version, capture_validation_error, **kwargs)\n",
      "           ^^^^^^^^^^^^^^^^^^^^^^^^^^^^^^^^^^^^^^^^^^^^^^^^^^^^^^^^^^\n",
      "  File \"C:\\Python311\\cv\\Lib\\site-packages\\nbformat\\__init__.py\", line 89, in reads\n",
      "    nb = reader.reads(s, **kwargs)\n",
      "         ^^^^^^^^^^^^^^^^^^^^^^^^^\n",
      "  File \"C:\\Python311\\cv\\Lib\\site-packages\\nbformat\\reader.py\", line 71, in reads\n",
      "    nb_dict = parse_json(s, **kwargs)\n",
      "              ^^^^^^^^^^^^^^^^^^^^^^^\n",
      "  File \"C:\\Python311\\cv\\Lib\\site-packages\\nbformat\\reader.py\", line 21, in parse_json\n",
      "    raise NotJSONError((\"Notebook does not appear to be JSON: %r\" % s)[:77] + \"...\") from e\n",
      "nbformat.reader.NotJSONError: Notebook does not appear to be JSON: ''...\n"
     ]
    }
   ],
   "source": [
    "!jupyter nbconvert --to html ex6.ipynb"
   ]
  }
 ],
 "metadata": {
  "kernelspec": {
   "display_name": "cv",
   "language": "python",
   "name": "python3"
  },
  "language_info": {
   "codemirror_mode": {
    "name": "ipython",
    "version": 3
   },
   "file_extension": ".py",
   "mimetype": "text/x-python",
   "name": "python",
   "nbconvert_exporter": "python",
   "pygments_lexer": "ipython3",
   "version": "3.11.1"
  },
  "orig_nbformat": 4,
  "vscode": {
   "interpreter": {
    "hash": "1df3a8821d9572c43dc1566313a4726de4fef46bb238b5a108cd916e42e22d30"
   }
  }
 },
 "nbformat": 4,
 "nbformat_minor": 2
}
